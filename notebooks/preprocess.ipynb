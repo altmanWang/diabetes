{
 "cells": [
  {
   "cell_type": "code",
   "execution_count": 12,
   "metadata": {
    "collapsed": true
   },
   "outputs": [],
   "source": [
    "import pandas as pd\n",
    "import numpy as np\n",
    "from PredictNan import PredictNan"
   ]
  },
  {
   "cell_type": "code",
   "execution_count": 13,
   "metadata": {
    "collapsed": true
   },
   "outputs": [],
   "source": [
    "train = pd.read_csv(\"../data/raw/d_train.csv\")\n",
    "test = pd.read_csv(\"../data/raw/d_test_A.csv\")\n",
    "\n",
    "test_id = test.pop(\"id\")\n",
    "train_id =  train.pop(\"id\")\n",
    "\n",
    "total_ID = pd.concat([train_id, test_id])\n",
    "\n",
    "target = train.pop(\"血糖\")\n"
   ]
  },
  {
   "cell_type": "code",
   "execution_count": 14,
   "metadata": {
    "collapsed": true
   },
   "outputs": [],
   "source": [
    "total = pd.concat([train,test])"
   ]
  },
  {
   "cell_type": "code",
   "execution_count": 15,
   "metadata": {
    "collapsed": true
   },
   "outputs": [],
   "source": [
    "#删除日期\n",
    "date = total.pop(\"date\")"
   ]
  },
  {
   "cell_type": "code",
   "execution_count": 16,
   "metadata": {
    "collapsed": true
   },
   "outputs": [],
   "source": [
    "#columns=[]\n",
    "#column = \"高密度脂蛋白胆固醇\"\n",
    "#total[column] = total[column].apply(lambda x : np.log1p(x))\n"
   ]
  },
  {
   "cell_type": "code",
   "execution_count": 17,
   "metadata": {},
   "outputs": [
    {
     "data": {
      "text/plain": [
       "'\\npredict = PredictNan(total, total_ID)\\nfor column in predict.continue_columns:\\n    total[column] = predict.targets[column]\\nfor column in predict.discrete_columns:\\n    total[column] = predict.targets[column]\\n'"
      ]
     },
     "execution_count": 17,
     "metadata": {},
     "output_type": "execute_result"
    }
   ],
   "source": [
    "'''\n",
    "predict = PredictNan(total, total_ID)\n",
    "for column in predict.continue_columns:\n",
    "    total[column] = predict.targets[column]\n",
    "for column in predict.discrete_columns:\n",
    "    total[column] = predict.targets[column]\n",
    "'''"
   ]
  },
  {
   "cell_type": "code",
   "execution_count": 18,
   "metadata": {
    "collapsed": true
   },
   "outputs": [],
   "source": [
    "#离散化age\n",
    "#total[\"age\"] = total[\"age\"].apply(lambda x : int(x/5.0+0.5))\n",
    "#one-hot编码（gender和age）\n",
    "one_hot = pd.get_dummies(total[\"gender\"], prefix=\"gender\")\n",
    "total.pop(\"gender\")\n",
    "total = pd.concat([one_hot,total],axis=1)\n",
    "\n",
    "#one_hot = pd.get_dummies(total[\"age\"], prefix=\"age\")\n",
    "#total.pop(\"age\")\n",
    "#total = pd.concat([one_hot,total],axis=1)"
   ]
  },
  {
   "cell_type": "code",
   "execution_count": 19,
   "metadata": {},
   "outputs": [
    {
     "data": {
      "text/html": [
       "<div>\n",
       "<style>\n",
       "    .dataframe thead tr:only-child th {\n",
       "        text-align: right;\n",
       "    }\n",
       "\n",
       "    .dataframe thead th {\n",
       "        text-align: left;\n",
       "    }\n",
       "\n",
       "    .dataframe tbody tr th {\n",
       "        vertical-align: top;\n",
       "    }\n",
       "</style>\n",
       "<table border=\"1\" class=\"dataframe\">\n",
       "  <thead>\n",
       "    <tr style=\"text-align: right;\">\n",
       "      <th></th>\n",
       "      <th>gender_0</th>\n",
       "      <th>gender_1</th>\n",
       "      <th>age</th>\n",
       "      <th>*天门冬氨酸氨基转换酶</th>\n",
       "      <th>*丙氨酸氨基转换酶</th>\n",
       "      <th>*碱性磷酸酶</th>\n",
       "      <th>*r-谷氨酰基转换酶</th>\n",
       "      <th>*总蛋白</th>\n",
       "      <th>白蛋白</th>\n",
       "      <th>*球蛋白</th>\n",
       "      <th>...</th>\n",
       "      <th>红细胞体积分布宽度</th>\n",
       "      <th>血小板计数</th>\n",
       "      <th>血小板平均体积</th>\n",
       "      <th>血小板体积分布宽度</th>\n",
       "      <th>血小板比积</th>\n",
       "      <th>中性粒细胞%</th>\n",
       "      <th>淋巴细胞%</th>\n",
       "      <th>单核细胞%</th>\n",
       "      <th>嗜酸细胞%</th>\n",
       "      <th>嗜碱细胞%</th>\n",
       "    </tr>\n",
       "  </thead>\n",
       "  <tbody>\n",
       "    <tr>\n",
       "      <th>0</th>\n",
       "      <td>0</td>\n",
       "      <td>1</td>\n",
       "      <td>41</td>\n",
       "      <td>24.96</td>\n",
       "      <td>23.10</td>\n",
       "      <td>99.59</td>\n",
       "      <td>20.23</td>\n",
       "      <td>76.88</td>\n",
       "      <td>49.60</td>\n",
       "      <td>27.28</td>\n",
       "      <td>...</td>\n",
       "      <td>12.8</td>\n",
       "      <td>166.0</td>\n",
       "      <td>9.9</td>\n",
       "      <td>17.4</td>\n",
       "      <td>0.164</td>\n",
       "      <td>54.1</td>\n",
       "      <td>34.2</td>\n",
       "      <td>6.5</td>\n",
       "      <td>4.7</td>\n",
       "      <td>0.6</td>\n",
       "    </tr>\n",
       "    <tr>\n",
       "      <th>1</th>\n",
       "      <td>0</td>\n",
       "      <td>1</td>\n",
       "      <td>41</td>\n",
       "      <td>24.57</td>\n",
       "      <td>36.25</td>\n",
       "      <td>67.21</td>\n",
       "      <td>79.00</td>\n",
       "      <td>79.43</td>\n",
       "      <td>47.76</td>\n",
       "      <td>31.67</td>\n",
       "      <td>...</td>\n",
       "      <td>13.4</td>\n",
       "      <td>277.0</td>\n",
       "      <td>9.2</td>\n",
       "      <td>10.3</td>\n",
       "      <td>0.260</td>\n",
       "      <td>52.0</td>\n",
       "      <td>36.7</td>\n",
       "      <td>5.8</td>\n",
       "      <td>4.7</td>\n",
       "      <td>0.8</td>\n",
       "    </tr>\n",
       "    <tr>\n",
       "      <th>2</th>\n",
       "      <td>0</td>\n",
       "      <td>1</td>\n",
       "      <td>46</td>\n",
       "      <td>20.82</td>\n",
       "      <td>15.23</td>\n",
       "      <td>63.69</td>\n",
       "      <td>38.17</td>\n",
       "      <td>86.23</td>\n",
       "      <td>48.00</td>\n",
       "      <td>38.23</td>\n",
       "      <td>...</td>\n",
       "      <td>13.0</td>\n",
       "      <td>241.0</td>\n",
       "      <td>8.3</td>\n",
       "      <td>16.6</td>\n",
       "      <td>0.199</td>\n",
       "      <td>48.1</td>\n",
       "      <td>40.3</td>\n",
       "      <td>7.7</td>\n",
       "      <td>3.2</td>\n",
       "      <td>0.8</td>\n",
       "    </tr>\n",
       "    <tr>\n",
       "      <th>3</th>\n",
       "      <td>1</td>\n",
       "      <td>0</td>\n",
       "      <td>22</td>\n",
       "      <td>14.99</td>\n",
       "      <td>10.59</td>\n",
       "      <td>74.08</td>\n",
       "      <td>20.22</td>\n",
       "      <td>70.98</td>\n",
       "      <td>44.02</td>\n",
       "      <td>26.96</td>\n",
       "      <td>...</td>\n",
       "      <td>12.6</td>\n",
       "      <td>252.0</td>\n",
       "      <td>10.3</td>\n",
       "      <td>10.8</td>\n",
       "      <td>0.260</td>\n",
       "      <td>41.7</td>\n",
       "      <td>46.5</td>\n",
       "      <td>6.7</td>\n",
       "      <td>4.6</td>\n",
       "      <td>0.5</td>\n",
       "    </tr>\n",
       "    <tr>\n",
       "      <th>4</th>\n",
       "      <td>1</td>\n",
       "      <td>0</td>\n",
       "      <td>48</td>\n",
       "      <td>20.07</td>\n",
       "      <td>14.78</td>\n",
       "      <td>75.79</td>\n",
       "      <td>22.72</td>\n",
       "      <td>78.05</td>\n",
       "      <td>41.83</td>\n",
       "      <td>36.22</td>\n",
       "      <td>...</td>\n",
       "      <td>16.6</td>\n",
       "      <td>316.0</td>\n",
       "      <td>11.1</td>\n",
       "      <td>14.0</td>\n",
       "      <td>0.350</td>\n",
       "      <td>56.6</td>\n",
       "      <td>33.1</td>\n",
       "      <td>9.1</td>\n",
       "      <td>0.6</td>\n",
       "      <td>0.6</td>\n",
       "    </tr>\n",
       "  </tbody>\n",
       "</table>\n",
       "<p>5 rows × 40 columns</p>\n",
       "</div>"
      ],
      "text/plain": [
       "   gender_0  gender_1  age  *天门冬氨酸氨基转换酶  *丙氨酸氨基转换酶  *碱性磷酸酶  *r-谷氨酰基转换酶   *总蛋白  \\\n",
       "0         0         1   41        24.96      23.10   99.59       20.23  76.88   \n",
       "1         0         1   41        24.57      36.25   67.21       79.00  79.43   \n",
       "2         0         1   46        20.82      15.23   63.69       38.17  86.23   \n",
       "3         1         0   22        14.99      10.59   74.08       20.22  70.98   \n",
       "4         1         0   48        20.07      14.78   75.79       22.72  78.05   \n",
       "\n",
       "     白蛋白   *球蛋白  ...    红细胞体积分布宽度  血小板计数  血小板平均体积  血小板体积分布宽度  血小板比积  中性粒细胞%  \\\n",
       "0  49.60  27.28  ...         12.8  166.0      9.9       17.4  0.164    54.1   \n",
       "1  47.76  31.67  ...         13.4  277.0      9.2       10.3  0.260    52.0   \n",
       "2  48.00  38.23  ...         13.0  241.0      8.3       16.6  0.199    48.1   \n",
       "3  44.02  26.96  ...         12.6  252.0     10.3       10.8  0.260    41.7   \n",
       "4  41.83  36.22  ...         16.6  316.0     11.1       14.0  0.350    56.6   \n",
       "\n",
       "   淋巴细胞%  单核细胞%  嗜酸细胞%  嗜碱细胞%  \n",
       "0   34.2    6.5    4.7    0.6  \n",
       "1   36.7    5.8    4.7    0.8  \n",
       "2   40.3    7.7    3.2    0.8  \n",
       "3   46.5    6.7    4.6    0.5  \n",
       "4   33.1    9.1    0.6    0.6  \n",
       "\n",
       "[5 rows x 40 columns]"
      ]
     },
     "execution_count": 19,
     "metadata": {},
     "output_type": "execute_result"
    }
   ],
   "source": [
    "total.head()"
   ]
  },
  {
   "cell_type": "code",
   "execution_count": 20,
   "metadata": {
    "collapsed": true
   },
   "outputs": [],
   "source": [
    "#处理缺失值\n",
    "#total = total.fillna(-999)"
   ]
  },
  {
   "cell_type": "code",
   "execution_count": 21,
   "metadata": {
    "collapsed": true
   },
   "outputs": [],
   "source": [
    "#\n",
    "train = total[0:5642]\n",
    "train = pd.concat([train_id,train,target],axis=1)\n",
    "\n",
    "test = total[5642:]\n",
    "test = pd.concat([test_id,test],axis=1)"
   ]
  },
  {
   "cell_type": "code",
   "execution_count": 22,
   "metadata": {
    "collapsed": true
   },
   "outputs": [],
   "source": [
    "train.to_csv(\"../data/processed/train.csv\",index=False,encoding=\"utf8\")\n",
    "test.to_csv(\"../data/processed/test.csv\",index=False,encoding=\"utf8\")"
   ]
  },
  {
   "cell_type": "code",
   "execution_count": null,
   "metadata": {
    "collapsed": true
   },
   "outputs": [],
   "source": []
  },
  {
   "cell_type": "code",
   "execution_count": null,
   "metadata": {
    "collapsed": true
   },
   "outputs": [],
   "source": []
  },
  {
   "cell_type": "code",
   "execution_count": null,
   "metadata": {
    "collapsed": true
   },
   "outputs": [],
   "source": []
  },
  {
   "cell_type": "code",
   "execution_count": null,
   "metadata": {
    "collapsed": true
   },
   "outputs": [],
   "source": []
  },
  {
   "cell_type": "code",
   "execution_count": null,
   "metadata": {
    "collapsed": true
   },
   "outputs": [],
   "source": []
  },
  {
   "cell_type": "code",
   "execution_count": null,
   "metadata": {
    "collapsed": true
   },
   "outputs": [],
   "source": []
  },
  {
   "cell_type": "code",
   "execution_count": 48,
   "metadata": {
    "collapsed": true
   },
   "outputs": [],
   "source": [
    "#total.to_csv(\"../data/processed/total.csv\",index=False)"
   ]
  },
  {
   "cell_type": "code",
   "execution_count": null,
   "metadata": {
    "collapsed": true
   },
   "outputs": [],
   "source": []
  },
  {
   "cell_type": "code",
   "execution_count": null,
   "metadata": {
    "collapsed": true
   },
   "outputs": [],
   "source": []
  },
  {
   "cell_type": "code",
   "execution_count": null,
   "metadata": {
    "collapsed": true
   },
   "outputs": [],
   "source": []
  },
  {
   "cell_type": "code",
   "execution_count": null,
   "metadata": {
    "collapsed": true
   },
   "outputs": [],
   "source": []
  }
 ],
 "metadata": {
  "kernelspec": {
   "display_name": "Python 3",
   "language": "python",
   "name": "python3"
  },
  "language_info": {
   "codemirror_mode": {
    "name": "ipython",
    "version": 3
   },
   "file_extension": ".py",
   "mimetype": "text/x-python",
   "name": "python",
   "nbconvert_exporter": "python",
   "pygments_lexer": "ipython3",
   "version": "3.6.3"
  }
 },
 "nbformat": 4,
 "nbformat_minor": 2
}
