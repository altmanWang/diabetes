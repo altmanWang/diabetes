{
 "cells": [
  {
   "cell_type": "code",
   "execution_count": 377,
   "metadata": {
    "collapsed": true
   },
   "outputs": [],
   "source": [
    "import pandas as pd\n",
    "import numpy as np\n",
    "from PredictNan import PredictNan\n",
    "import datetime"
   ]
  },
  {
   "cell_type": "code",
   "execution_count": 378,
   "metadata": {
    "collapsed": true
   },
   "outputs": [],
   "source": [
    "train = pd.read_csv(\"../data/raw/d_train.csv\")\n",
    "test = pd.read_csv(\"../data/raw/d_test_A.csv\")\n",
    "\n",
    "test_id = test.pop(\"id\")\n",
    "train_id =  train.pop(\"id\")\n",
    "\n",
    "total_ID = pd.concat([train_id, test_id])\n",
    "\n",
    "target = train.pop(\"血糖\")\n"
   ]
  },
  {
   "cell_type": "code",
   "execution_count": 379,
   "metadata": {
    "collapsed": true
   },
   "outputs": [],
   "source": [
    "total = pd.concat([train,test])"
   ]
  },
  {
   "cell_type": "code",
   "execution_count": 380,
   "metadata": {
    "collapsed": true
   },
   "outputs": [],
   "source": [
    "columns = [\"*r-谷氨酰基转换酶\",\n",
    "           \"*球蛋白\",\n",
    "           \"低密度脂蛋白胆固醇\",\n",
    "           \"乙肝e抗体\",\n",
    "           \"红细胞计数\",\n",
    "           \"中性粒细胞%\",\n",
    "           ]\n",
    "for column in columns:\n",
    "    total[column] = total[column].apply(lambda x : np.log1p(x))\n",
    "\n",
    "\n",
    "columns = [\n",
    "          \"红细胞平均血红蛋白量\",\n",
    "          \"血小板比积\"]\n",
    "for column in columns:\n",
    "    total.pop(column)\n",
    "       "
   ]
  },
  {
   "cell_type": "code",
   "execution_count": 381,
   "metadata": {
    "collapsed": true
   },
   "outputs": [],
   "source": [
    "#添加统计量\n",
    "#columns = total.columns.tolist()\n",
    "columns = [\"age\",\"甘油三酯\",\"红细胞平均体积\",\"尿素\",\"尿酸\",\"*碱性磷酸酶\",\"红细胞平均血红蛋白浓度\",\"*天门冬氨酸氨基转换酶\",\n",
    "          \"*r-谷氨酰基转换酶\",\n",
    "          ]\n",
    "\n",
    "\n",
    "for column in columns:\n",
    "    if column != \"date\" and column != \"gender\":\n",
    "        max_value = total[column].max()\n",
    "        min_value = total[column].min()\n",
    "        avg_value = total[column].mean()\n",
    "        total[column+\"max\"] = total[column].apply(lambda x : x - max_value)\n",
    "        #total[column+\"min\"] = total[column].apply(lambda x : x - min_value)\n",
    "        #total[column+\"avg\"] = total[column].apply(lambda x : x - avg_value)\n"
   ]
  },
  {
   "cell_type": "code",
   "execution_count": 382,
   "metadata": {
    "collapsed": true
   },
   "outputs": [],
   "source": [
    "#删除日期\n",
    "date = total.pop(\"date\")\n",
    "#total[\"date\"]=total[\"date\"].apply(lambda x : datetime.datetime.strptime(x, \"%d/%m/%Y\").isoweekday())\n"
   ]
  },
  {
   "cell_type": "code",
   "execution_count": 383,
   "metadata": {},
   "outputs": [
    {
     "data": {
      "text/plain": [
       "'\\npredict = PredictNan(total, total_ID)\\nfor column in predict.continue_columns:\\n    total[column] = predict.targets[column]\\nfor column in predict.discrete_columns:\\n    total[column] = predict.targets[column]\\n'"
      ]
     },
     "execution_count": 383,
     "metadata": {},
     "output_type": "execute_result"
    }
   ],
   "source": [
    "'''\n",
    "predict = PredictNan(total, total_ID)\n",
    "for column in predict.continue_columns:\n",
    "    total[column] = predict.targets[column]\n",
    "for column in predict.discrete_columns:\n",
    "    total[column] = predict.targets[column]\n",
    "'''"
   ]
  },
  {
   "cell_type": "code",
   "execution_count": 384,
   "metadata": {
    "collapsed": true
   },
   "outputs": [],
   "source": [
    "#离散化age\n",
    "#total[\"age\"] = total[\"age\"].apply(lambda x : int(x/5.0+0.5))\n",
    "#one-hot编码（gender和age）\n",
    "one_hot = pd.get_dummies(total[\"gender\"], prefix=\"gender\")\n",
    "total.pop(\"gender\")\n",
    "total = pd.concat([one_hot,total],axis=1)\n",
    "\n",
    "#one_hot = pd.get_dummies(total[\"date\"], prefix=\"date\")\n",
    "#total.pop(\"date\")\n",
    "#total = pd.concat([one_hot,total],axis=1)"
   ]
  },
  {
   "cell_type": "code",
   "execution_count": 385,
   "metadata": {},
   "outputs": [
    {
     "data": {
      "text/html": [
       "<div>\n",
       "<style>\n",
       "    .dataframe thead tr:only-child th {\n",
       "        text-align: right;\n",
       "    }\n",
       "\n",
       "    .dataframe thead th {\n",
       "        text-align: left;\n",
       "    }\n",
       "\n",
       "    .dataframe tbody tr th {\n",
       "        vertical-align: top;\n",
       "    }\n",
       "</style>\n",
       "<table border=\"1\" class=\"dataframe\">\n",
       "  <thead>\n",
       "    <tr style=\"text-align: right;\">\n",
       "      <th></th>\n",
       "      <th>gender_0</th>\n",
       "      <th>gender_1</th>\n",
       "      <th>age</th>\n",
       "      <th>*天门冬氨酸氨基转换酶</th>\n",
       "      <th>*丙氨酸氨基转换酶</th>\n",
       "      <th>*碱性磷酸酶</th>\n",
       "      <th>*r-谷氨酰基转换酶</th>\n",
       "      <th>*总蛋白</th>\n",
       "      <th>白蛋白</th>\n",
       "      <th>*球蛋白</th>\n",
       "      <th>...</th>\n",
       "      <th>嗜碱细胞%</th>\n",
       "      <th>agemax</th>\n",
       "      <th>甘油三酯max</th>\n",
       "      <th>红细胞平均体积max</th>\n",
       "      <th>尿素max</th>\n",
       "      <th>尿酸max</th>\n",
       "      <th>*碱性磷酸酶max</th>\n",
       "      <th>红细胞平均血红蛋白浓度max</th>\n",
       "      <th>*天门冬氨酸氨基转换酶max</th>\n",
       "      <th>*r-谷氨酰基转换酶max</th>\n",
       "    </tr>\n",
       "  </thead>\n",
       "  <tbody>\n",
       "    <tr>\n",
       "      <th>0</th>\n",
       "      <td>0</td>\n",
       "      <td>1</td>\n",
       "      <td>41</td>\n",
       "      <td>24.96</td>\n",
       "      <td>23.10</td>\n",
       "      <td>99.59</td>\n",
       "      <td>3.055415</td>\n",
       "      <td>76.88</td>\n",
       "      <td>49.60</td>\n",
       "      <td>3.342155</td>\n",
       "      <td>...</td>\n",
       "      <td>0.6</td>\n",
       "      <td>-52</td>\n",
       "      <td>-40.26</td>\n",
       "      <td>-21.1</td>\n",
       "      <td>-7.52</td>\n",
       "      <td>-427.20</td>\n",
       "      <td>-274.73</td>\n",
       "      <td>-115.0</td>\n",
       "      <td>-409.99</td>\n",
       "      <td>-3.548515</td>\n",
       "    </tr>\n",
       "    <tr>\n",
       "      <th>1</th>\n",
       "      <td>0</td>\n",
       "      <td>1</td>\n",
       "      <td>41</td>\n",
       "      <td>24.57</td>\n",
       "      <td>36.25</td>\n",
       "      <td>67.21</td>\n",
       "      <td>4.382027</td>\n",
       "      <td>79.43</td>\n",
       "      <td>47.76</td>\n",
       "      <td>3.486457</td>\n",
       "      <td>...</td>\n",
       "      <td>0.8</td>\n",
       "      <td>-52</td>\n",
       "      <td>-38.76</td>\n",
       "      <td>-25.5</td>\n",
       "      <td>-8.13</td>\n",
       "      <td>-289.81</td>\n",
       "      <td>-307.11</td>\n",
       "      <td>-120.0</td>\n",
       "      <td>-410.38</td>\n",
       "      <td>-2.221904</td>\n",
       "    </tr>\n",
       "    <tr>\n",
       "      <th>2</th>\n",
       "      <td>0</td>\n",
       "      <td>1</td>\n",
       "      <td>46</td>\n",
       "      <td>20.82</td>\n",
       "      <td>15.23</td>\n",
       "      <td>63.69</td>\n",
       "      <td>3.667911</td>\n",
       "      <td>86.23</td>\n",
       "      <td>48.00</td>\n",
       "      <td>3.669442</td>\n",
       "      <td>...</td>\n",
       "      <td>0.8</td>\n",
       "      <td>-47</td>\n",
       "      <td>-40.58</td>\n",
       "      <td>-21.1</td>\n",
       "      <td>-8.62</td>\n",
       "      <td>-324.52</td>\n",
       "      <td>-310.63</td>\n",
       "      <td>-122.0</td>\n",
       "      <td>-414.13</td>\n",
       "      <td>-2.936019</td>\n",
       "    </tr>\n",
       "    <tr>\n",
       "      <th>3</th>\n",
       "      <td>1</td>\n",
       "      <td>0</td>\n",
       "      <td>22</td>\n",
       "      <td>14.99</td>\n",
       "      <td>10.59</td>\n",
       "      <td>74.08</td>\n",
       "      <td>3.054944</td>\n",
       "      <td>70.98</td>\n",
       "      <td>44.02</td>\n",
       "      <td>3.330775</td>\n",
       "      <td>...</td>\n",
       "      <td>0.5</td>\n",
       "      <td>-71</td>\n",
       "      <td>-40.51</td>\n",
       "      <td>-19.1</td>\n",
       "      <td>-9.16</td>\n",
       "      <td>-407.74</td>\n",
       "      <td>-300.24</td>\n",
       "      <td>-122.0</td>\n",
       "      <td>-419.96</td>\n",
       "      <td>-3.548986</td>\n",
       "    </tr>\n",
       "    <tr>\n",
       "      <th>4</th>\n",
       "      <td>1</td>\n",
       "      <td>0</td>\n",
       "      <td>48</td>\n",
       "      <td>20.07</td>\n",
       "      <td>14.78</td>\n",
       "      <td>75.79</td>\n",
       "      <td>3.166319</td>\n",
       "      <td>78.05</td>\n",
       "      <td>41.83</td>\n",
       "      <td>3.616846</td>\n",
       "      <td>...</td>\n",
       "      <td>0.6</td>\n",
       "      <td>-45</td>\n",
       "      <td>-40.60</td>\n",
       "      <td>-44.3</td>\n",
       "      <td>NaN</td>\n",
       "      <td>NaN</td>\n",
       "      <td>-298.53</td>\n",
       "      <td>-163.0</td>\n",
       "      <td>-414.88</td>\n",
       "      <td>-3.437612</td>\n",
       "    </tr>\n",
       "  </tbody>\n",
       "</table>\n",
       "<p>5 rows × 47 columns</p>\n",
       "</div>"
      ],
      "text/plain": [
       "   gender_0  gender_1  age  *天门冬氨酸氨基转换酶  *丙氨酸氨基转换酶  *碱性磷酸酶  *r-谷氨酰基转换酶   *总蛋白  \\\n",
       "0         0         1   41        24.96      23.10   99.59    3.055415  76.88   \n",
       "1         0         1   41        24.57      36.25   67.21    4.382027  79.43   \n",
       "2         0         1   46        20.82      15.23   63.69    3.667911  86.23   \n",
       "3         1         0   22        14.99      10.59   74.08    3.054944  70.98   \n",
       "4         1         0   48        20.07      14.78   75.79    3.166319  78.05   \n",
       "\n",
       "     白蛋白      *球蛋白      ...        嗜碱细胞%  agemax  甘油三酯max  红细胞平均体积max  尿素max  \\\n",
       "0  49.60  3.342155      ...          0.6     -52   -40.26       -21.1  -7.52   \n",
       "1  47.76  3.486457      ...          0.8     -52   -38.76       -25.5  -8.13   \n",
       "2  48.00  3.669442      ...          0.8     -47   -40.58       -21.1  -8.62   \n",
       "3  44.02  3.330775      ...          0.5     -71   -40.51       -19.1  -9.16   \n",
       "4  41.83  3.616846      ...          0.6     -45   -40.60       -44.3    NaN   \n",
       "\n",
       "    尿酸max  *碱性磷酸酶max  红细胞平均血红蛋白浓度max  *天门冬氨酸氨基转换酶max  *r-谷氨酰基转换酶max  \n",
       "0 -427.20    -274.73          -115.0         -409.99      -3.548515  \n",
       "1 -289.81    -307.11          -120.0         -410.38      -2.221904  \n",
       "2 -324.52    -310.63          -122.0         -414.13      -2.936019  \n",
       "3 -407.74    -300.24          -122.0         -419.96      -3.548986  \n",
       "4     NaN    -298.53          -163.0         -414.88      -3.437612  \n",
       "\n",
       "[5 rows x 47 columns]"
      ]
     },
     "execution_count": 385,
     "metadata": {},
     "output_type": "execute_result"
    }
   ],
   "source": [
    "total.head()"
   ]
  },
  {
   "cell_type": "code",
   "execution_count": 386,
   "metadata": {
    "collapsed": true
   },
   "outputs": [],
   "source": [
    "#处理缺失值\n",
    "#columns = total.columns.tolist()\n",
    "for column in columns:\n",
    "    total[column] = total[column].fillna(total[column].mean())"
   ]
  },
  {
   "cell_type": "code",
   "execution_count": 387,
   "metadata": {
    "collapsed": true
   },
   "outputs": [],
   "source": [
    "#\n",
    "train = total[0:5642]\n",
    "train = pd.concat([train_id,train,target],axis=1)\n",
    "\n",
    "test = total[5642:]\n",
    "test = pd.concat([test_id,test],axis=1)"
   ]
  },
  {
   "cell_type": "code",
   "execution_count": 388,
   "metadata": {
    "collapsed": true
   },
   "outputs": [],
   "source": [
    "train.to_csv(\"../data/processed/train.csv\",index=False,encoding=\"utf8\")\n",
    "test.to_csv(\"../data/processed/test.csv\",index=False,encoding=\"utf8\")"
   ]
  },
  {
   "cell_type": "code",
   "execution_count": null,
   "metadata": {
    "collapsed": true
   },
   "outputs": [],
   "source": []
  },
  {
   "cell_type": "code",
   "execution_count": null,
   "metadata": {},
   "outputs": [],
   "source": []
  },
  {
   "cell_type": "code",
   "execution_count": null,
   "metadata": {
    "collapsed": true
   },
   "outputs": [],
   "source": []
  },
  {
   "cell_type": "code",
   "execution_count": null,
   "metadata": {
    "collapsed": true
   },
   "outputs": [],
   "source": []
  },
  {
   "cell_type": "code",
   "execution_count": null,
   "metadata": {
    "collapsed": true
   },
   "outputs": [],
   "source": []
  },
  {
   "cell_type": "code",
   "execution_count": null,
   "metadata": {
    "collapsed": true
   },
   "outputs": [],
   "source": []
  },
  {
   "cell_type": "code",
   "execution_count": 48,
   "metadata": {
    "collapsed": true
   },
   "outputs": [],
   "source": []
  },
  {
   "cell_type": "code",
   "execution_count": null,
   "metadata": {
    "collapsed": true
   },
   "outputs": [],
   "source": []
  },
  {
   "cell_type": "code",
   "execution_count": null,
   "metadata": {
    "collapsed": true
   },
   "outputs": [],
   "source": []
  },
  {
   "cell_type": "code",
   "execution_count": null,
   "metadata": {
    "collapsed": true
   },
   "outputs": [],
   "source": []
  },
  {
   "cell_type": "code",
   "execution_count": null,
   "metadata": {
    "collapsed": true
   },
   "outputs": [],
   "source": []
  }
 ],
 "metadata": {
  "kernelspec": {
   "display_name": "Python 3",
   "language": "python",
   "name": "python3"
  },
  "language_info": {
   "codemirror_mode": {
    "name": "ipython",
    "version": 3
   },
   "file_extension": ".py",
   "mimetype": "text/x-python",
   "name": "python",
   "nbconvert_exporter": "python",
   "pygments_lexer": "ipython3",
   "version": "3.6.3"
  }
 },
 "nbformat": 4,
 "nbformat_minor": 2
}
